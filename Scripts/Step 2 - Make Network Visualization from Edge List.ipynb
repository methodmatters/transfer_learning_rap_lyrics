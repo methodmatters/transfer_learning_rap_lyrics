{
 "cells": [
  {
   "cell_type": "code",
   "execution_count": 1,
   "metadata": {},
   "outputs": [],
   "source": [
    "import pandas as pd\n",
    "import numpy as np\n",
    "%matplotlib inline\n",
    "import joblib\n",
    "import networkx as nx"
   ]
  },
  {
   "cell_type": "markdown",
   "metadata": {},
   "source": [
    "# Load the trimmed edge list data"
   ]
  },
  {
   "cell_type": "code",
   "execution_count": 2,
   "metadata": {},
   "outputs": [],
   "source": [
    "in_dir = 'D:\\\\Data\\\\Derived\\\\'"
   ]
  },
  {
   "cell_type": "code",
   "execution_count": 3,
   "metadata": {},
   "outputs": [
    {
     "data": {
      "text/plain": [
       "(831, 18)"
      ]
     },
     "execution_count": 3,
     "metadata": {},
     "output_type": "execute_result"
    }
   ],
   "source": [
    "edge_df_trim = joblib.load(in_dir + 'edge_list_trim.pkl') \n",
    "edge_df_trim.shape"
   ]
  },
  {
   "cell_type": "code",
   "execution_count": 4,
   "metadata": {},
   "outputs": [
    {
     "data": {
      "text/html": [
       "<div>\n",
       "<style scoped>\n",
       "    .dataframe tbody tr th:only-of-type {\n",
       "        vertical-align: middle;\n",
       "    }\n",
       "\n",
       "    .dataframe tbody tr th {\n",
       "        vertical-align: top;\n",
       "    }\n",
       "\n",
       "    .dataframe thead th {\n",
       "        text-align: right;\n",
       "    }\n",
       "</style>\n",
       "<table border=\"1\" class=\"dataframe\">\n",
       "  <thead>\n",
       "    <tr style=\"text-align: right;\">\n",
       "      <th></th>\n",
       "      <th>source_id</th>\n",
       "      <th>source_album</th>\n",
       "      <th>source_artist</th>\n",
       "      <th>source_score</th>\n",
       "      <th>source_year1</th>\n",
       "      <th>source_year2</th>\n",
       "      <th>target_id</th>\n",
       "      <th>target_album</th>\n",
       "      <th>target_artist</th>\n",
       "      <th>target_score</th>\n",
       "      <th>target_year1</th>\n",
       "      <th>target_year2</th>\n",
       "      <th>target_rank</th>\n",
       "      <th>cosine_sim</th>\n",
       "      <th>source_year_master</th>\n",
       "      <th>target_year_master</th>\n",
       "      <th>source_score_cut</th>\n",
       "      <th>target_score_cut</th>\n",
       "    </tr>\n",
       "  </thead>\n",
       "  <tbody>\n",
       "    <tr>\n",
       "      <td>100</td>\n",
       "      <td>22561</td>\n",
       "      <td>death certificate</td>\n",
       "      <td>ice cube</td>\n",
       "      <td>9.5</td>\n",
       "      <td>1991.0</td>\n",
       "      <td>NaN</td>\n",
       "      <td>20048</td>\n",
       "      <td>ferg forever</td>\n",
       "      <td>a$ap ferg</td>\n",
       "      <td>6.4</td>\n",
       "      <td>2014.0</td>\n",
       "      <td>NaN</td>\n",
       "      <td>1</td>\n",
       "      <td>0.994675</td>\n",
       "      <td>1991.0</td>\n",
       "      <td>2014.0</td>\n",
       "      <td>Great</td>\n",
       "      <td>Bad</td>\n",
       "    </tr>\n",
       "    <tr>\n",
       "      <td>101</td>\n",
       "      <td>22561</td>\n",
       "      <td>death certificate</td>\n",
       "      <td>ice cube</td>\n",
       "      <td>9.5</td>\n",
       "      <td>1991.0</td>\n",
       "      <td>NaN</td>\n",
       "      <td>18930</td>\n",
       "      <td>piata</td>\n",
       "      <td>madlib, freddie gibbs</td>\n",
       "      <td>8.0</td>\n",
       "      <td>2014.0</td>\n",
       "      <td>NaN</td>\n",
       "      <td>2</td>\n",
       "      <td>0.994550</td>\n",
       "      <td>1991.0</td>\n",
       "      <td>2014.0</td>\n",
       "      <td>Great</td>\n",
       "      <td>Great</td>\n",
       "    </tr>\n",
       "    <tr>\n",
       "      <td>135</td>\n",
       "      <td>22566</td>\n",
       "      <td>blunted on reality</td>\n",
       "      <td>fugees</td>\n",
       "      <td>7.6</td>\n",
       "      <td>1994.0</td>\n",
       "      <td>2016.0</td>\n",
       "      <td>5711</td>\n",
       "      <td>street's disciple</td>\n",
       "      <td>nas</td>\n",
       "      <td>7.2</td>\n",
       "      <td>2004.0</td>\n",
       "      <td>NaN</td>\n",
       "      <td>1</td>\n",
       "      <td>0.989205</td>\n",
       "      <td>1994.0</td>\n",
       "      <td>2004.0</td>\n",
       "      <td>Good</td>\n",
       "      <td>Good</td>\n",
       "    </tr>\n",
       "    <tr>\n",
       "      <td>136</td>\n",
       "      <td>22566</td>\n",
       "      <td>blunted on reality</td>\n",
       "      <td>fugees</td>\n",
       "      <td>7.6</td>\n",
       "      <td>1994.0</td>\n",
       "      <td>2016.0</td>\n",
       "      <td>13373</td>\n",
       "      <td>slaughterhouse</td>\n",
       "      <td>slaughterhouse</td>\n",
       "      <td>5.5</td>\n",
       "      <td>2009.0</td>\n",
       "      <td>NaN</td>\n",
       "      <td>2</td>\n",
       "      <td>0.987979</td>\n",
       "      <td>1994.0</td>\n",
       "      <td>2009.0</td>\n",
       "      <td>Good</td>\n",
       "      <td>Bad</td>\n",
       "    </tr>\n",
       "    <tr>\n",
       "      <td>275</td>\n",
       "      <td>22132</td>\n",
       "      <td>things fall apart</td>\n",
       "      <td>the roots</td>\n",
       "      <td>9.4</td>\n",
       "      <td>1999.0</td>\n",
       "      <td>NaN</td>\n",
       "      <td>4331</td>\n",
       "      <td>power in numbers</td>\n",
       "      <td>jurassic 5</td>\n",
       "      <td>7.1</td>\n",
       "      <td>2002.0</td>\n",
       "      <td>NaN</td>\n",
       "      <td>1</td>\n",
       "      <td>0.992334</td>\n",
       "      <td>1999.0</td>\n",
       "      <td>2002.0</td>\n",
       "      <td>Great</td>\n",
       "      <td>Good</td>\n",
       "    </tr>\n",
       "  </tbody>\n",
       "</table>\n",
       "</div>"
      ],
      "text/plain": [
       "     source_id        source_album source_artist  source_score  source_year1  \\\n",
       "100      22561   death certificate      ice cube           9.5        1991.0   \n",
       "101      22561   death certificate      ice cube           9.5        1991.0   \n",
       "135      22566  blunted on reality        fugees           7.6        1994.0   \n",
       "136      22566  blunted on reality        fugees           7.6        1994.0   \n",
       "275      22132   things fall apart     the roots           9.4        1999.0   \n",
       "\n",
       "     source_year2  target_id       target_album          target_artist  \\\n",
       "100           NaN      20048       ferg forever              a$ap ferg   \n",
       "101           NaN      18930              piata  madlib, freddie gibbs   \n",
       "135        2016.0       5711  street's disciple                    nas   \n",
       "136        2016.0      13373     slaughterhouse         slaughterhouse   \n",
       "275           NaN       4331   power in numbers             jurassic 5   \n",
       "\n",
       "     target_score  target_year1  target_year2  target_rank  cosine_sim  \\\n",
       "100           6.4        2014.0           NaN            1    0.994675   \n",
       "101           8.0        2014.0           NaN            2    0.994550   \n",
       "135           7.2        2004.0           NaN            1    0.989205   \n",
       "136           5.5        2009.0           NaN            2    0.987979   \n",
       "275           7.1        2002.0           NaN            1    0.992334   \n",
       "\n",
       "     source_year_master  target_year_master source_score_cut target_score_cut  \n",
       "100              1991.0              2014.0            Great              Bad  \n",
       "101              1991.0              2014.0            Great            Great  \n",
       "135              1994.0              2004.0             Good             Good  \n",
       "136              1994.0              2009.0             Good              Bad  \n",
       "275              1999.0              2002.0            Great             Good  "
      ]
     },
     "execution_count": 4,
     "metadata": {},
     "output_type": "execute_result"
    }
   ],
   "source": [
    "edge_df_trim.head()"
   ]
  },
  {
   "cell_type": "code",
   "execution_count": null,
   "metadata": {},
   "outputs": [],
   "source": []
  },
  {
   "cell_type": "markdown",
   "metadata": {},
   "source": [
    "# Make the Network Visualization"
   ]
  },
  {
   "cell_type": "code",
   "execution_count": 5,
   "metadata": {},
   "outputs": [
    {
     "data": {
      "text/plain": [
       "815"
      ]
     },
     "execution_count": 5,
     "metadata": {},
     "output_type": "execute_result"
    }
   ],
   "source": [
    "# make the networkx graph object: directed graph\n",
    "g = nx.from_pandas_edgelist(edge_df_trim, 'source_album', 'target_album', edge_attr='cosine_sim')\n",
    "len(g.nodes())"
   ]
  },
  {
   "cell_type": "markdown",
   "metadata": {},
   "source": [
    "### Examine the centralities of the network"
   ]
  },
  {
   "cell_type": "code",
   "execution_count": 6,
   "metadata": {},
   "outputs": [
    {
     "data": {
      "text/html": [
       "<div>\n",
       "<style scoped>\n",
       "    .dataframe tbody tr th:only-of-type {\n",
       "        vertical-align: middle;\n",
       "    }\n",
       "\n",
       "    .dataframe tbody tr th {\n",
       "        vertical-align: top;\n",
       "    }\n",
       "\n",
       "    .dataframe thead th {\n",
       "        text-align: right;\n",
       "    }\n",
       "</style>\n",
       "<table border=\"1\" class=\"dataframe\">\n",
       "  <thead>\n",
       "    <tr style=\"text-align: right;\">\n",
       "      <th></th>\n",
       "      <th>Album</th>\n",
       "      <th>Centrality</th>\n",
       "    </tr>\n",
       "  </thead>\n",
       "  <tbody>\n",
       "    <tr>\n",
       "      <td>75</td>\n",
       "      <td>lucky 7</td>\n",
       "      <td>0.024570</td>\n",
       "    </tr>\n",
       "    <tr>\n",
       "      <td>325</td>\n",
       "      <td>evolution</td>\n",
       "      <td>0.013514</td>\n",
       "    </tr>\n",
       "    <tr>\n",
       "      <td>143</td>\n",
       "      <td>dedication 5</td>\n",
       "      <td>0.013514</td>\n",
       "    </tr>\n",
       "    <tr>\n",
       "      <td>492</td>\n",
       "      <td>trill o.g.</td>\n",
       "      <td>0.011057</td>\n",
       "    </tr>\n",
       "    <tr>\n",
       "      <td>182</td>\n",
       "      <td>peep: the aprocalypse</td>\n",
       "      <td>0.011057</td>\n",
       "    </tr>\n",
       "  </tbody>\n",
       "</table>\n",
       "</div>"
      ],
      "text/plain": [
       "                     Album  Centrality\n",
       "75                 lucky 7    0.024570\n",
       "325              evolution    0.013514\n",
       "143           dedication 5    0.013514\n",
       "492             trill o.g.    0.011057\n",
       "182  peep: the aprocalypse    0.011057"
      ]
     },
     "execution_count": 6,
     "metadata": {},
     "output_type": "execute_result"
    }
   ],
   "source": [
    "s = pd.Series( nx.degree_centrality(g))\n",
    "centralities = pd.DataFrame(s)\n",
    "centralities.reset_index(level=None, drop=False, inplace=True)\n",
    "centralities.columns = ['Album','Centrality']\n",
    "centralities.sort_values('Centrality', ascending = False).head(5)"
   ]
  },
  {
   "cell_type": "markdown",
   "metadata": {},
   "source": [
    "### Function to make pyvis interactive plot from networkx graph object"
   ]
  },
  {
   "cell_type": "code",
   "execution_count": 7,
   "metadata": {},
   "outputs": [],
   "source": [
    "# https://gist.github.com/maciejkos/e3bc958aac9e7a245dddff8d86058e17\n",
    "def draw_graph3(networkx_graph,notebook=True,output_filename='graph.html',show_buttons=True,only_physics_buttons=False,\n",
    "                height=None,width=None,bgcolor=None,font_color=None,pyvis_options=None):\n",
    "    \"\"\"\n",
    "    This function accepts a networkx graph object,\n",
    "    converts it to a pyvis network object preserving its node and edge attributes,\n",
    "    and both returns and saves a dynamic network visualization.\n",
    "    Valid node attributes include:\n",
    "        \"size\", \"value\", \"title\", \"x\", \"y\", \"label\", \"color\".\n",
    "        (For more info: https://pyvis.readthedocs.io/en/latest/documentation.html#pyvis.network.Network.add_node)\n",
    "    Valid edge attributes include:\n",
    "        \"arrowStrikethrough\", \"hidden\", \"physics\", \"title\", \"value\", \"width\"\n",
    "        (For more info: https://pyvis.readthedocs.io/en/latest/documentation.html#pyvis.network.Network.add_edge)\n",
    "    Args:\n",
    "        networkx_graph: The graph to convert and display\n",
    "        notebook: Display in Jupyter?\n",
    "        output_filename: Where to save the converted network\n",
    "        show_buttons: Show buttons in saved version of network?\n",
    "        only_physics_buttons: Show only buttons controlling physics of network?\n",
    "        height: height in px or %, e.g, \"750px\" or \"100%\n",
    "        width: width in px or %, e.g, \"750px\" or \"100%\n",
    "        bgcolor: background color, e.g., \"black\" or \"#222222\"\n",
    "        font_color: font color,  e.g., \"black\" or \"#222222\"\n",
    "        pyvis_options: provide pyvis-specific options (https://pyvis.readthedocs.io/en/latest/documentation.html#pyvis.options.Options.set)\n",
    "    \"\"\"\n",
    "\n",
    "    # import\n",
    "    from pyvis import network as net\n",
    "\n",
    "    # make a pyvis network\n",
    "    network_class_parameters = {\"notebook\": notebook, \"height\": height, \"width\": width, \"bgcolor\": bgcolor, \"font_color\": font_color}\n",
    "    pyvis_graph = net.Network(**{parameter_name: parameter_value for parameter_name, parameter_value in network_class_parameters.items() if parameter_value})\n",
    "\n",
    "    # for each node and its attributes in the networkx graph\n",
    "    for node,node_attrs in networkx_graph.nodes(data=True):\n",
    "        pyvis_graph.add_node(node,**node_attrs)\n",
    "\n",
    "    # for each edge and its attributes in the networkx graph\n",
    "    for source,target,edge_attrs in networkx_graph.edges(data=True):\n",
    "        # if value/width not specified directly, and weight is specified, set 'value' to 'weight'\n",
    "        if not 'value' in edge_attrs and not 'width' in edge_attrs and 'weight' in edge_attrs:\n",
    "            # place at key 'value' the weight of the edge\n",
    "            edge_attrs['value']=edge_attrs['weight']\n",
    "        # add the edge\n",
    "        pyvis_graph.add_edge(source,target,**edge_attrs)\n",
    "\n",
    "    # turn buttons on\n",
    "    if show_buttons:\n",
    "        if only_physics_buttons:\n",
    "            pyvis_graph.show_buttons(filter_=['physics'])\n",
    "        else:\n",
    "            pyvis_graph.show_buttons()\n",
    "\n",
    "    # pyvis-specific options\n",
    "    if pyvis_options:\n",
    "        pyvis_graph.set_options(pyvis_options)\n",
    "\n",
    "    # return and also save\n",
    "    return pyvis_graph.show(output_filename)"
   ]
  },
  {
   "cell_type": "code",
   "execution_count": 8,
   "metadata": {},
   "outputs": [],
   "source": [
    "# make dictionaries for source and target albums\n",
    "source_album_dict = pd.Series(edge_df_trim.source_score_cut.values,index=edge_df_trim.source_album).to_dict()\n",
    "target_album_dict = pd.Series(edge_df_trim.target_score_cut.values,index=edge_df_trim.target_album).to_dict()\n",
    "\n",
    "# concatenate the dictionaries\n",
    "# https://stackoverflow.com/questions/38987/how-do-i-merge-two-dictionaries-in-a-single-expression\n",
    "master_album_dict = {**source_album_dict, **target_album_dict}"
   ]
  },
  {
   "cell_type": "code",
   "execution_count": 9,
   "metadata": {},
   "outputs": [
    {
     "data": {
      "text/plain": [
       "('death certificate', 'Great')"
      ]
     },
     "execution_count": 9,
     "metadata": {},
     "output_type": "execute_result"
    }
   ],
   "source": [
    "# first element of the dictionary\n",
    "list(master_album_dict.items())[0] "
   ]
  },
  {
   "cell_type": "code",
   "execution_count": 10,
   "metadata": {},
   "outputs": [],
   "source": [
    "# change the master album dict to have \n",
    "# album: color attribute\n",
    "mad2 = master_album_dict.copy()\n",
    "for album, quality in mad2.items():\n",
    "    if quality == \"Great\":\n",
    "        mad2[album] = \"green\"\n",
    "    elif quality == \"Good\":\n",
    "        mad2[album] = \"darkgoldenrod\"\n",
    "    elif quality == \"Bad\":\n",
    "        mad2[album] = \"red\""
   ]
  },
  {
   "cell_type": "code",
   "execution_count": 11,
   "metadata": {},
   "outputs": [
    {
     "data": {
      "text/plain": [
       "('death certificate', 'green')"
      ]
     },
     "execution_count": 11,
     "metadata": {},
     "output_type": "execute_result"
    }
   ],
   "source": [
    "# first element of the dictionary\n",
    "list(mad2.items())[0] "
   ]
  },
  {
   "cell_type": "code",
   "execution_count": 12,
   "metadata": {},
   "outputs": [],
   "source": [
    "# set the node attribute color \n",
    "# using the above dictionary mapping\n",
    "nx.set_node_attributes(g, mad2, 'color')"
   ]
  },
  {
   "cell_type": "code",
   "execution_count": 13,
   "metadata": {},
   "outputs": [
    {
     "data": {
      "text/plain": [
       "{'color': 'green'}"
      ]
     },
     "execution_count": 13,
     "metadata": {},
     "output_type": "execute_result"
    }
   ],
   "source": [
    "g.nodes['death certificate']"
   ]
  },
  {
   "cell_type": "code",
   "execution_count": 14,
   "metadata": {},
   "outputs": [],
   "source": [
    "# make dictionaries for source and target artists\n",
    "source_artist_dict = pd.Series((edge_df_trim.source_artist + \" (\" + edge_df_trim.source_year_master.astype(int).astype(str) + \")\").values,index=edge_df_trim.source_album).to_dict()\n",
    "target_artist_dict = pd.Series((edge_df_trim.target_artist + \" (\" + edge_df_trim.target_year_master.astype(int).astype(str) + \")\").values,index=edge_df_trim.target_album).to_dict()\n",
    "\n",
    "# concatenate the dictionaries\n",
    "# https://stackoverflow.com/questions/38987/how-do-i-merge-two-dictionaries-in-a-single-expression\n",
    "master_artist_dict = {**source_artist_dict, **target_artist_dict}"
   ]
  },
  {
   "cell_type": "code",
   "execution_count": 15,
   "metadata": {},
   "outputs": [
    {
     "data": {
      "text/plain": [
       "('death certificate', 'ice cube (1991)')"
      ]
     },
     "execution_count": 15,
     "metadata": {},
     "output_type": "execute_result"
    }
   ],
   "source": [
    "# first element of the dictionary\n",
    "list(master_artist_dict.items())[0] "
   ]
  },
  {
   "cell_type": "code",
   "execution_count": 16,
   "metadata": {},
   "outputs": [],
   "source": [
    "# set the node title attribute  \n",
    "# using the above dictionary mapping\n",
    "nx.set_node_attributes(g, master_artist_dict, 'title')"
   ]
  },
  {
   "cell_type": "code",
   "execution_count": 17,
   "metadata": {},
   "outputs": [
    {
     "data": {
      "text/plain": [
       "{'color': 'green', 'title': 'ice cube (1991)'}"
      ]
     },
     "execution_count": 17,
     "metadata": {},
     "output_type": "execute_result"
    }
   ],
   "source": [
    "g.nodes['death certificate']"
   ]
  },
  {
   "cell_type": "code",
   "execution_count": null,
   "metadata": {},
   "outputs": [],
   "source": []
  },
  {
   "cell_type": "code",
   "execution_count": 18,
   "metadata": {
    "scrolled": false
   },
   "outputs": [
    {
     "data": {
      "text/html": [
       "\n",
       "        <iframe\n",
       "            width=\"1000px\"\n",
       "            height=\"1000px\"\n",
       "            src=\"graph_output_blog.html\"\n",
       "            frameborder=\"0\"\n",
       "            allowfullscreen\n",
       "        ></iframe>\n",
       "        "
      ],
      "text/plain": [
       "<IPython.lib.display.IFrame at 0x298a99dc108>"
      ]
     },
     "execution_count": 18,
     "metadata": {},
     "output_type": "execute_result"
    }
   ],
   "source": [
    "# make the pyviz interactive plot\n",
    "# this will save out an html file to the directory\n",
    "# where this script is\n",
    "# plot will also be shown in the notebook\n",
    "draw_graph3(g, height = '1000px', width = '1000px', \n",
    "            show_buttons=False,  \n",
    "            output_filename='graph_output_blog.html', notebook=True)"
   ]
  },
  {
   "cell_type": "code",
   "execution_count": null,
   "metadata": {},
   "outputs": [],
   "source": []
  },
  {
   "cell_type": "code",
   "execution_count": null,
   "metadata": {},
   "outputs": [],
   "source": []
  },
  {
   "cell_type": "code",
   "execution_count": null,
   "metadata": {},
   "outputs": [],
   "source": []
  },
  {
   "cell_type": "code",
   "execution_count": null,
   "metadata": {},
   "outputs": [],
   "source": []
  },
  {
   "cell_type": "code",
   "execution_count": null,
   "metadata": {},
   "outputs": [],
   "source": []
  },
  {
   "cell_type": "code",
   "execution_count": null,
   "metadata": {},
   "outputs": [],
   "source": []
  },
  {
   "cell_type": "code",
   "execution_count": null,
   "metadata": {},
   "outputs": [],
   "source": []
  },
  {
   "cell_type": "code",
   "execution_count": null,
   "metadata": {},
   "outputs": [],
   "source": []
  },
  {
   "cell_type": "code",
   "execution_count": null,
   "metadata": {},
   "outputs": [],
   "source": []
  },
  {
   "cell_type": "code",
   "execution_count": null,
   "metadata": {},
   "outputs": [],
   "source": []
  },
  {
   "cell_type": "code",
   "execution_count": null,
   "metadata": {},
   "outputs": [],
   "source": []
  }
 ],
 "metadata": {
  "kernelspec": {
   "display_name": "Python 3",
   "language": "python",
   "name": "python3"
  },
  "language_info": {
   "codemirror_mode": {
    "name": "ipython",
    "version": 3
   },
   "file_extension": ".py",
   "mimetype": "text/x-python",
   "name": "python",
   "nbconvert_exporter": "python",
   "pygments_lexer": "ipython3",
   "version": "3.7.4"
  }
 },
 "nbformat": 4,
 "nbformat_minor": 2
}
